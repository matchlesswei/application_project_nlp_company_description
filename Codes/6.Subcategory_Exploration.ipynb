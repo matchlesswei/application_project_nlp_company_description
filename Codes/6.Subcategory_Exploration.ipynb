{
 "cells": [
  {
   "cell_type": "code",
   "execution_count": 1,
   "metadata": {},
   "outputs": [],
   "source": [
    "import pandas as pd\n",
    "import numpy as np\n",
    "from sklearn.feature_extraction.text import CountVectorizer, TfidfVectorizer\n",
    "from sklearn.neighbors import KNeighborsClassifier\n",
    "from sklearn.cluster import MiniBatchKMeans\n",
    "from sklearn.metrics import classification_report, confusion_matrix, accuracy_score\n",
    "import matplotlib.pyplot as plt\n",
    "from collections import Counter\n",
    "import warnings\n",
    "warnings.filterwarnings('ignore')"
   ]
  },
  {
   "cell_type": "markdown",
   "metadata": {},
   "source": [
    "### In this notebook, we use k-means to explore different clusters under one category, and try to find the subcategories using unsupervised learning method"
   ]
  },
  {
   "cell_type": "markdown",
   "metadata": {},
   "source": [
    "### Read the data"
   ]
  },
  {
   "cell_type": "code",
   "execution_count": 2,
   "metadata": {},
   "outputs": [],
   "source": [
    "data_directory = \"/Users/weiding/Google Drive/Application Project/data_after_preprocessing.csv\"\n",
    "data_all_category = pd.read_csv(data_directory, sep='\\t')"
   ]
  },
  {
   "cell_type": "markdown",
   "metadata": {},
   "source": [
    "### Select the data from one category, and print the distribution of the subcategory in that category"
   ]
  },
  {
   "cell_type": "code",
   "execution_count": 3,
   "metadata": {},
   "outputs": [],
   "source": [
    "def content_selection(df_all_category, category):\n",
    "    df = df_all_category[df_all_category['Category'] == category]\n",
    "    df = df.dropna()\n",
    "    print(df['IndustrySegment'].value_counts())\n",
    "    return df"
   ]
  },
  {
   "cell_type": "markdown",
   "metadata": {},
   "source": [
    "### Given a number k (for example 10) as the number of maximal clusters. The function explore and plot from 2 clusters to k clusters to find which number of clusters gives what sse score. The lower sse is, the better.\n",
    "### SSE is the sum of squared error. It is defined as the sum of the squared distance between centroid and each member of the cluster."
   ]
  },
  {
   "cell_type": "code",
   "execution_count": 4,
   "metadata": {},
   "outputs": [],
   "source": [
    "def find_optimal_clusters(data, max_k):\n",
    "    iters = range(2, max_k+1, 1)\n",
    "    \n",
    "    #find the sse scores\n",
    "    sse = []\n",
    "    for k in iters:\n",
    "        sse.append(MiniBatchKMeans(n_clusters=k, init_size=64, batch_size=128, random_state=10).fit(data).inertia_)\n",
    "        print('Fit {} clusters'.format(k))\n",
    "    \n",
    "    #plot the scores\n",
    "    f, ax = plt.subplots(1, 1)\n",
    "    ax.plot(iters, sse, marker='o')\n",
    "    ax.set_xlabel('Cluster Centers')\n",
    "    ax.set_xticks(iters)\n",
    "    ax.set_xticklabels(iters)\n",
    "    ax.set_ylabel('SSE')\n",
    "    ax.set_title('SSE by Cluster Center Plot')\n",
    "    return sse"
   ]
  },
  {
   "cell_type": "markdown",
   "metadata": {},
   "source": [
    "### Get top n keywords of each cluster which have the highest tf-idf scores"
   ]
  },
  {
   "cell_type": "code",
   "execution_count": 5,
   "metadata": {},
   "outputs": [],
   "source": [
    "def get_top_keywords(data, clusters, labels, n_terms):\n",
    "    df = pd.DataFrame(data.todense()).groupby(clusters).mean()\n",
    "    \n",
    "    for i,r in df.iterrows():\n",
    "        print('\\nCluster {}'.format(i))\n",
    "        print(','.join([labels[t] for t in np.argsort(r)[-n_terms:]]))"
   ]
  },
  {
   "cell_type": "markdown",
   "metadata": {},
   "source": [
    "### Combine the functions above to do the subcategory exploration. Steps are as follows:\n",
    "1. Generate tf-idf for the data\n",
    "2. Find the optimal number of clusters with regard to the k-means algorithm\n",
    "3. apply k-means with the optimal number of clusters to classify data and get top keywords for each subcategory\n",
    "4. given the offical number of clusters, apply this number using k-means and compare the top keywords for each category."
   ]
  },
  {
   "cell_type": "code",
   "execution_count": 6,
   "metadata": {},
   "outputs": [],
   "source": [
    "def k_means(df, n):\n",
    "    #generate tf-idf for the data\n",
    "    feature_extraction = TfidfVectorizer(max_features = 8000, stop_words = 'english') \n",
    "    df_tfidf = feature_extraction.fit_transform(df['clean'].values)\n",
    "    #get the list of sse scores when applying different number of clusters\n",
    "    sse = find_optimal_clusters(df_tfidf, 10)\n",
    "    #find the optimial number of clusters\n",
    "    n_clusters = np.argmin(sse)+2\n",
    "    #apply k-means with that optimal number of clusters\n",
    "    clusters = MiniBatchKMeans(n_clusters=n_clusters, init_size=64, batch_size=128, random_state=10).fit_predict(df_tfidf)\n",
    "    print(\"\\nSuggested number of group is %1.0f:\" % n_clusters)\n",
    "    #get top keywords of each cluster\n",
    "    get_top_keywords(df_tfidf, clusters, feature_extraction.get_feature_names(), 10)\n",
    "    print(Counter(clusters))\n",
    "    print(\"--------------------------------------------------\")\n",
    "    #n is the official number of subcategories. Use n as the number of cluster for k-means to see the results \n",
    "    if (n_clusters != n):\n",
    "        clusters = MiniBatchKMeans(n_clusters=n, init_size=64, batch_size=128, random_state=10).fit_predict(df_tfidf)\n",
    "        print(\"\\nThe actual number of group should be %1.0f:\" % n)\n",
    "        get_top_keywords(df_tfidf, clusters, feature_extraction.get_feature_names(), 10)\n",
    "        print(Counter(clusters))\n",
    "        print(\"--------------------------------------------------\")\n",
    "        print(\"\\nThe actual keywords in each group are:\")\n",
    "        get_top_keywords(df_tfidf, df['IndustrySegment'].values, feature_extraction.get_feature_names(), 10)"
   ]
  },
  {
   "cell_type": "markdown",
   "metadata": {},
   "source": [
    "### Explore Category: Information Technology Group"
   ]
  },
  {
   "cell_type": "code",
   "execution_count": 7,
   "metadata": {},
   "outputs": [
    {
     "name": "stdout",
     "output_type": "stream",
     "text": [
      "Software                             1315\n",
      "Communications and Networking         244\n",
      "Electronics and Computer Hardware     229\n",
      "Semiconductors                         97\n",
      "Name: IndustrySegment, dtype: int64\n"
     ]
    }
   ],
   "source": [
    "Information_Technology_Group = content_selection(data_all_category, 'INFORMATION TECHNOLOGY GROUP')"
   ]
  },
  {
   "cell_type": "code",
   "execution_count": 8,
   "metadata": {},
   "outputs": [
    {
     "name": "stdout",
     "output_type": "stream",
     "text": [
      "Fit 2 clusters\n",
      "Fit 3 clusters\n",
      "Fit 4 clusters\n",
      "Fit 5 clusters\n",
      "Fit 6 clusters\n",
      "Fit 7 clusters\n",
      "Fit 8 clusters\n",
      "Fit 9 clusters\n",
      "Fit 10 clusters\n",
      "\n",
      "Suggested number of group is 10:\n",
      "\n",
      "Cluster 0\n",
      "data,educators,classroom,schools,education,student,school,teachers,learning,students\n",
      "\n",
      "Cluster 1\n",
      "content,website,data,service,personal,privacy,services,site,use,information\n",
      "\n",
      "Cluster 2\n",
      "web,threats,data,information,network,malware,security,rsa,emc,netwitness\n",
      "\n",
      "Cluster 3\n",
      "service,use,solutions,management,time,services,software,information,business,data\n",
      "\n",
      "Cluster 4\n",
      "business,time,new,service,domain,services,com,use,data,information\n",
      "\n",
      "Cluster 5\n",
      "salesforce,menu,agreement,popular,client,categories,information,technologies,data,datanyze\n",
      "\n",
      "Cluster 6\n",
      "august,library,internet,contributing,log,artifacts,use,terms,archive,mar\n",
      "\n",
      "Cluster 7\n",
      "predictive,management,estate,location,datasheets,shop,lease,load,cta,hbspt\n",
      "\n",
      "Cluster 8\n",
      "gartner,november,bpm,dev,oracle,th,uk,congress,london,seminar\n",
      "\n",
      "Cluster 9\n",
      "high,products,semiconductor,solutions,systems,design,power,technology,optical,wireless\n",
      "Counter({4: 1121, 3: 407, 1: 207, 9: 122, 0: 20, 6: 4, 5: 1, 2: 1, 8: 1, 7: 1})\n",
      "--------------------------------------------------\n",
      "\n",
      "The actual number of group should be 4:\n",
      "\n",
      "Cluster 0\n",
      "business,service,time,technology,new,services,com,use,information,data\n",
      "\n",
      "Cluster 1\n",
      "service,use,management,time,solutions,services,software,business,information,data\n",
      "\n",
      "Cluster 2\n",
      "use,new,classroom,schools,education,student,teachers,school,learning,students\n",
      "\n",
      "Cluster 3\n",
      "content,website,data,service,personal,privacy,services,site,use,information\n",
      "Counter({0: 1238, 1: 402, 3: 212, 2: 33})\n",
      "--------------------------------------------------\n",
      "\n",
      "The actual keywords in each group are:\n",
      "\n",
      "Cluster Communications and Networking\n",
      "solutions,business,optical,use,data,wireless,service,services,network,information\n",
      "\n",
      "Cluster Electronics and Computer Hardware\n",
      "power,time,product,new,site,data,products,technology,use,information\n",
      "\n",
      "Cluster Semiconductors\n",
      "arm,domain,use,site,products,technology,power,semiconductor,com,information\n",
      "\n",
      "Cluster Software\n",
      "new,site,business,software,time,service,services,use,data,information\n"
     ]
    },
    {
     "data": {
      "image/png": "[encoded data removed]",
      "text/plain": [
       "<Figure size 432x288 with 1 Axes>"
      ]
     },
     "metadata": {
      "needs_background": "light"
     },
     "output_type": "display_data"
    }
   ],
   "source": [
    "k_means(Information_Technology_Group, 4)"
   ]
  },
  {
   "cell_type": "markdown",
   "metadata": {},
   "source": [
    "### Explore Category: BUSINESS & FINANCIAL SERVICES"
   ]
  },
  {
   "cell_type": "code",
   "execution_count": 9,
   "metadata": {},
   "outputs": [
    {
     "name": "stdout",
     "output_type": "stream",
     "text": [
      "Business Support Services              1077\n",
      "Financial Institutions and Services     333\n",
      "Construction and Civil Engineering      116\n",
      "Wholesale Trade and Shipping             53\n",
      "Name: IndustrySegment, dtype: int64\n"
     ]
    }
   ],
   "source": [
    "BFS = content_selection(data_all_category, 'BUSINESS & FINANCIAL SERVICES')"
   ]
  },
  {
   "cell_type": "code",
   "execution_count": 10,
   "metadata": {},
   "outputs": [
    {
     "name": "stdout",
     "output_type": "stream",
     "text": [
      "Fit 2 clusters\n",
      "Fit 3 clusters\n",
      "Fit 4 clusters\n",
      "Fit 5 clusters\n",
      "Fit 6 clusters\n",
      "Fit 7 clusters\n",
      "Fit 8 clusters\n",
      "Fit 9 clusters\n",
      "Fit 10 clusters\n",
      "\n",
      "Suggested number of group is 8:\n",
      "\n",
      "Cluster 0\n",
      "content,service,website,personal,privacy,services,data,site,use,information\n",
      "\n",
      "Cluster 1\n",
      "management,com,company,use,new,service,data,information,services,business\n",
      "\n",
      "Cluster 2\n",
      "hundreds,featured,site,beta,plugins,php,beautiful,theme,themes,wordpress\n",
      "\n",
      "Cluster 3\n",
      "private,amazon,workloads,var,clouds,information,cisco,podcast,cloud,openstack\n",
      "\n",
      "Cluster 4\n",
      "raise,goodwill,apartment,container,multifamily,bags,recycling,trash,waste,valet\n",
      "\n",
      "Cluster 5\n",
      "care,welcome,touch,drug,medical,disability,services,outcomes,management,case\n",
      "\n",
      "Cluster 6\n",
      "sur,pour,du,en,colas,des,le,la,les,et\n",
      "\n",
      "Cluster 7\n",
      "use,email,names,hosting,daddy,registrar,website,information,domains,domain\n",
      "Counter({1: 1224, 0: 303, 7: 31, 2: 15, 6: 3, 3: 1, 5: 1, 4: 1})\n",
      "--------------------------------------------------\n",
      "\n",
      "The actual number of group should be 4:\n",
      "\n",
      "Cluster 0\n",
      "content,service,personal,privacy,website,data,services,site,use,information\n",
      "\n",
      "Cluster 1\n",
      "com,management,use,company,new,service,data,information,business,services\n",
      "\n",
      "Cluster 2\n",
      "hundreds,featured,site,beta,plugins,php,beautiful,theme,themes,wordpress\n",
      "\n",
      "Cluster 3\n",
      "management,outsourcing,carrier,pl,technology,chicago,global,transportation,logistics,echo\n",
      "Counter({1: 1226, 0: 337, 2: 15, 3: 1})\n",
      "--------------------------------------------------\n",
      "\n",
      "The actual keywords in each group are:\n",
      "\n",
      "Cluster Business Support Services\n",
      "new,time,website,service,site,business,use,services,data,information\n",
      "\n",
      "Cluster Construction and Civil Engineering\n",
      "website,information,design,company,service,services,recycling,construction,water,waste\n",
      "\n",
      "Cluster Financial Institutions and Services\n",
      "card,payment,site,service,business,financial,use,insurance,services,information\n",
      "\n",
      "Cluster Wholesale Trade and Shipping\n",
      "com,customers,business,supply,information,freight,services,service,transportation,logistics\n"
     ]
    },
    {
     "data": {
      "image/png": "[encoded data removed]",
      "text/plain": [
       "<Figure size 432x288 with 1 Axes>"
      ]
     },
     "metadata": {
      "needs_background": "light"
     },
     "output_type": "display_data"
    }
   ],
   "source": [
    "k_means(BFS, 4)"
   ]
  },
  {
   "cell_type": "markdown",
   "metadata": {},
   "source": [
    "### Explore Category: HEALTHCARE GROUP"
   ]
  },
  {
   "cell_type": "code",
   "execution_count": 11,
   "metadata": {},
   "outputs": [
    {
     "name": "stdout",
     "output_type": "stream",
     "text": [
      "Biopharmaceuticals                           372\n",
      "Medical Devices and Equipment                313\n",
      "Healthcare Services                          189\n",
      "Medical Software and Information Services    167\n",
      "Name: IndustrySegment, dtype: int64\n"
     ]
    }
   ],
   "source": [
    "HG = content_selection(data_all_category, 'HEALTHCARE GROUP')"
   ]
  },
  {
   "cell_type": "code",
   "execution_count": 12,
   "metadata": {},
   "outputs": [
    {
     "name": "stdout",
     "output_type": "stream",
     "text": [
      "Fit 2 clusters\n",
      "Fit 3 clusters\n",
      "Fit 4 clusters\n",
      "Fit 5 clusters\n",
      "Fit 6 clusters\n",
      "Fit 7 clusters\n",
      "Fit 8 clusters\n",
      "Fit 9 clusters\n",
      "Fit 10 clusters\n",
      "\n",
      "Suggested number of group is 10:\n",
      "\n",
      "Cluster 0\n",
      "fentanyl,page,billing,site,wordpress,ai,assistants,installation,iso,surgical\n",
      "\n",
      "Cluster 1\n",
      "saas,tv,app,ceo,vr,ibm,iphone,copyright,ai,manbetx\n",
      "\n",
      "Cluster 2\n",
      "clinical,services,healthcare,patient,use,patients,medical,information,health,care\n",
      "\n",
      "Cluster 3\n",
      "perfect,fraud,conversation,competitors,convert,brand,visitors,anonymous,names,business\n",
      "\n",
      "Cluster 4\n",
      "programme,bath,independent,graduate,terms,information,practice,website,veterinary,vet\n",
      "\n",
      "Cluster 5\n",
      "immunity,gsk,viral,themes,zika,wordpress,virus,influenza,vaccines,vaccine\n",
      "\n",
      "Cluster 6\n",
      "therapeutic,frequency,device,low,intensity,patch,nerve,relief,ultrasound,pain\n",
      "\n",
      "Cluster 7\n",
      "research,mr,served,company,therapeutics,clinical,development,university,cancer,dr\n",
      "\n",
      "Cluster 8\n",
      "party,services,privacy,cookies,domain,web,website,use,site,information\n",
      "\n",
      "Cluster 9\n",
      "software,google,dental,cookies,scripts,cookie,imaging,gdpr,plugin,manchester\n",
      "Counter({2: 769, 8: 127, 7: 126, 0: 10, 3: 4, 1: 1, 4: 1, 9: 1, 6: 1, 5: 1})\n",
      "--------------------------------------------------\n",
      "\n",
      "The actual number of group should be 4:\n",
      "\n",
      "Cluster 0\n",
      "test,bp,release,usp,laboratory,pharmaceutical,testing,analytical,batch,validation\n",
      "\n",
      "Cluster 1\n",
      "patients,therapeutics,opioids,cara,chronic,treatment,relief,drug,opioid,pain\n",
      "\n",
      "Cluster 2\n",
      "medical,drug,therapeutics,research,company,university,dr,clinical,development,cancer\n",
      "\n",
      "Cluster 3\n",
      "healthcare,web,services,website,medical,site,health,use,care,information\n",
      "Counter({3: 752, 2: 277, 1: 11, 0: 1})\n",
      "--------------------------------------------------\n",
      "\n",
      "The actual keywords in each group are:\n",
      "\n",
      "Cluster Biopharmaceuticals\n",
      "drug,site,therapeutics,clinical,dr,company,use,cancer,development,information\n",
      "\n",
      "Cluster Healthcare Services\n",
      "website,healthcare,home,site,use,medical,services,information,health,care\n",
      "\n",
      "Cluster Medical Devices and Equipment\n",
      "company,technology,patients,website,device,products,site,use,information,medical\n",
      "\n",
      "Cluster Medical Software and Information Services\n",
      "software,services,clinical,patients,healthcare,patient,data,information,health,care\n"
     ]
    },
    {
     "data": {
      "image/png": "[encoded data removed]",
      "text/plain": [
       "<Figure size 432x288 with 1 Axes>"
      ]
     },
     "metadata": {
      "needs_background": "light"
     },
     "output_type": "display_data"
    }
   ],
   "source": [
    "k_means(HG, 4)"
   ]
  },
  {
   "cell_type": "markdown",
   "metadata": {},
   "source": [
    "### Explore Category: CONSUMER SERVICES GROUP"
   ]
  },
  {
   "cell_type": "code",
   "execution_count": 13,
   "metadata": {},
   "outputs": [
    {
     "name": "stdout",
     "output_type": "stream",
     "text": [
      "Consumer Information Services    437\n",
      "Media and Content                268\n",
      "Travel and Leisure               224\n",
      "Retailers                        211\n",
      "Name: IndustrySegment, dtype: int64\n"
     ]
    }
   ],
   "source": [
    "CSG = content_selection(data_all_category, 'CONSUMER SERVICES GROUP')"
   ]
  },
  {
   "cell_type": "code",
   "execution_count": 14,
   "metadata": {},
   "outputs": [
    {
     "name": "stdout",
     "output_type": "stream",
     "text": [
      "Fit 2 clusters\n",
      "Fit 3 clusters\n",
      "Fit 4 clusters\n",
      "Fit 5 clusters\n",
      "Fit 6 clusters\n",
      "Fit 7 clusters\n",
      "Fit 8 clusters\n",
      "Fit 9 clusters\n",
      "Fit 10 clusters\n",
      "\n",
      "Suggested number of group is 9:\n",
      "\n",
      "Cluster 0\n",
      "time,content,website,video,new,apps,use,mobile,app,google\n",
      "\n",
      "Cluster 1\n",
      "car,agents,online,consumers,business,agent,lead,auto,leads,insurance\n",
      "\n",
      "Cluster 2\n",
      "sauce,order,salads,diego,grilled,ca,vista,project,pizza,pie\n",
      "\n",
      "Cluster 3\n",
      "business,data,site,service,services,time,com,new,use,information\n",
      "\n",
      "Cluster 4\n",
      "usa,virtual,link,alpha,delaware,ai,reality,newark,tags,vr\n",
      "\n",
      "Cluster 5\n",
      "dns,email,page,server,using,service,temple,types,mt,applies\n",
      "\n",
      "Cluster 6\n",
      "daniel,fitness,instructors,information,use,arbitration,site,workout,classes,burnalong\n",
      "\n",
      "Cluster 7\n",
      "store,return,item,free,gift,information,items,order,orders,shipping\n",
      "\n",
      "Cluster 8\n",
      "personal,privacy,content,website,terms,service,services,site,use,information\n",
      "Counter({3: 865, 8: 214, 0: 32, 7: 22, 4: 3, 6: 1, 5: 1, 1: 1, 2: 1})\n",
      "--------------------------------------------------\n",
      "\n",
      "The actual number of group should be 4:\n",
      "\n",
      "Cluster 0\n",
      "den,ist,zu,icann,mit,der,die,whois,sie,und\n",
      "\n",
      "Cluster 1\n",
      "personal,privacy,content,website,terms,service,site,services,use,information\n",
      "\n",
      "Cluster 2\n",
      "like,business,services,service,site,time,com,use,new,information\n",
      "\n",
      "Cluster 3\n",
      "categories,download,help,ad,app,learn,advertising,maps,ads,google\n",
      "Counter({2: 845, 1: 279, 0: 10, 3: 6})\n",
      "--------------------------------------------------\n",
      "\n",
      "The actual keywords in each group are:\n",
      "\n",
      "Cluster Consumer Information Services\n",
      "website,terms,data,time,site,content,service,services,use,information\n",
      "\n",
      "Cluster Media and Content\n",
      "education,data,students,new,learning,content,services,site,use,information\n",
      "\n",
      "Cluster Retailers\n",
      "email,new,service,products,shipping,order,com,site,use,information\n",
      "\n",
      "Cluster Travel and Leisure\n",
      "pm,time,personal,service,website,travel,services,site,use,information\n"
     ]
    },
    {
     "data": {
      "image/png": "[encoded data removed]",
      "text/plain": [
       "<Figure size 432x288 with 1 Axes>"
      ]
     },
     "metadata": {
      "needs_background": "light"
     },
     "output_type": "display_data"
    }
   ],
   "source": [
    "k_means(CSG, 4)"
   ]
  },
  {
   "cell_type": "markdown",
   "metadata": {},
   "source": [
    "### Explore Category: ENERGY & UTILITIES GROUP"
   ]
  },
  {
   "cell_type": "code",
   "execution_count": 15,
   "metadata": {},
   "outputs": [
    {
     "name": "stdout",
     "output_type": "stream",
     "text": [
      "Renewable Energy        103\n",
      "Non-Renewable Energy     99\n",
      "Utilities                17\n",
      "Name: IndustrySegment, dtype: int64\n"
     ]
    }
   ],
   "source": [
    "EUG = content_selection(data_all_category, 'ENERGY & UTILITIES GROUP')"
   ]
  },
  {
   "cell_type": "code",
   "execution_count": 16,
   "metadata": {},
   "outputs": [
    {
     "name": "stdout",
     "output_type": "stream",
     "text": [
      "Fit 2 clusters\n",
      "Fit 3 clusters\n",
      "Fit 4 clusters\n",
      "Fit 5 clusters\n",
      "Fit 6 clusters\n",
      "Fit 7 clusters\n",
      "Fit 8 clusters\n",
      "Fit 9 clusters\n",
      "Fit 10 clusters\n",
      "\n",
      "Suggested number of group is 10:\n",
      "\n",
      "Cluster 0\n",
      "biogas,ge,chp,engine,power,engines,gas,jenbacher,energy,clarke\n",
      "\n",
      "Cluster 1\n",
      "mr,services,technology,business,water,company,power,oil,gas,energy\n",
      "\n",
      "Cluster 2\n",
      "production,royalty,information,stock,gross,lp,corp,hotline,memorial,rss\n",
      "\n",
      "Cluster 3\n",
      "victor,adelan,online,power,cell,microwave,maxsys,website,fuel,domain\n",
      "\n",
      "Cluster 4\n",
      "robin,renewable,brighter,turbine,tri,skystream,xzeres,turbines,energy,wind\n",
      "\n",
      "Cluster 5\n",
      "enphase,civicsolar,verengo,junction,panels,pv,solaria,power,energy,solar\n",
      "\n",
      "Cluster 6\n",
      "etagen,terms,usg,privacy,party,use,sourcegas,website,cookies,information\n",
      "\n",
      "Cluster 7\n",
      "linear,wrapper,color,webkit,gradient,border,esg,tendeka,rgba,px\n",
      "\n",
      "Cluster 8\n",
      "mining,drilling,foresight,parallel,anthracite,gas,exploration,oil,blaschak,coal\n",
      "\n",
      "Cluster 9\n",
      "stanford,copyright,info,anna,id,domain,org,amazon,enquiries,com\n",
      "Counter({1: 154, 5: 20, 3: 18, 6: 9, 4: 6, 8: 5, 9: 3, 2: 2, 0: 1, 7: 1})\n",
      "--------------------------------------------------\n",
      "\n",
      "The actual number of group should be 3:\n",
      "\n",
      "Cluster 0\n",
      "website,rights,com,reserved,web,wordpress,copyright,rss,vio,domain\n",
      "\n",
      "Cluster 1\n",
      "water,use,technology,company,oil,information,gas,power,solar,energy\n",
      "\n",
      "Cluster 2\n",
      "permian,parallel,exploration,basin,texas,drilling,oil,reamco,oryx,com\n",
      "Counter({1: 194, 0: 19, 2: 6})\n",
      "--------------------------------------------------\n",
      "\n",
      "The actual keywords in each group are:\n",
      "\n",
      "Cluster Non-Renewable Energy\n",
      "business,texas,exploration,mr,drilling,services,company,energy,oil,gas\n",
      "\n",
      "Cluster Renewable Energy\n",
      "use,renewable,domain,information,technology,fuel,wind,power,energy,solar\n",
      "\n",
      "Cluster Utilities\n",
      "ng,site,usg,clearesult,driblet,information,water,sourcegas,com,energy\n"
     ]
    },
    {
     "data": {
      "image/png": "[encoded data removed]",
      "text/plain": [
       "<Figure size 432x288 with 1 Axes>"
      ]
     },
     "metadata": {
      "needs_background": "light"
     },
     "output_type": "display_data"
    }
   ],
   "source": [
    "k_means(EUG, 3)"
   ]
  }
 ],
 "metadata": {
  "kernelspec": {
   "display_name": "Python 3",
   "language": "python",
   "name": "python3"
  },
  "language_info": {
   "codemirror_mode": {
    "name": "ipython",
    "version": 3
   },
   "file_extension": ".py",
   "mimetype": "text/x-python",
   "name": "python",
   "nbconvert_exporter": "python",
   "pygments_lexer": "ipython3",
   "version": "3.7.4"
  }
 },
 "nbformat": 4,
 "nbformat_minor": 2
}
